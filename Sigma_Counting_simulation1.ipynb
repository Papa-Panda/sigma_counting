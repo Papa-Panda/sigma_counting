{
  "nbformat": 4,
  "nbformat_minor": 0,
  "metadata": {
    "kernelspec": {
      "display_name": "Python 2",
      "language": "python",
      "name": "python2"
    },
    "language_info": {
      "codemirror_mode": {
        "name": "ipython",
        "version": 2
      },
      "file_extension": ".py",
      "mimetype": "text/x-python",
      "name": "python",
      "nbconvert_exporter": "python",
      "pygments_lexer": "ipython2",
      "version": "2.7.15"
    },
    "colab": {
      "provenance": [],
      "include_colab_link": true
    }
  },
  "cells": [
    {
      "cell_type": "markdown",
      "metadata": {
        "id": "view-in-github",
        "colab_type": "text"
      },
      "source": [
        "<a href=\"https://colab.research.google.com/github/Papa-Panda/sigma_counting/blob/main/Sigma_Counting_simulation1.ipynb\" target=\"_parent\"><img src=\"https://colab.research.google.com/assets/colab-badge.svg\" alt=\"Open In Colab\"/></a>"
      ]
    },
    {
      "cell_type": "code",
      "metadata": {
        "id": "z0sobQSjeQlf"
      },
      "source": [
        "import pandas as pd\n",
        "import numpy as np\n",
        "import matplotlib.pyplot as plt\n",
        "%matplotlib inline \n",
        "import time"
      ],
      "execution_count": null,
      "outputs": []
    },
    {
      "cell_type": "code",
      "metadata": {
        "id": "IJhYdaCmeQlg"
      },
      "source": [
        "import math\n",
        "def binom(n, k):\n",
        "    return math.factorial(n) // math.factorial(k) // math.factorial(n - k)"
      ],
      "execution_count": null,
      "outputs": []
    },
    {
      "cell_type": "code",
      "metadata": {
        "colab": {
          "base_uri": "https://localhost:8080/"
        },
        "id": "BKnZXSqmIuYG",
        "outputId": "7287df5c-6cd9-4686-db70-5138cdbde27d"
      },
      "source": [
        "from google.colab import drive\n",
        "drive.mount('/content/drive')"
      ],
      "execution_count": null,
      "outputs": [
        {
          "output_type": "stream",
          "text": [
            "Mounted at /content/drive\n"
          ],
          "name": "stdout"
        }
      ]
    },
    {
      "cell_type": "code",
      "metadata": {
        "id": "zyzXuXPreQlh"
      },
      "source": [
        "class DataBase():\n",
        "    def __init__(self,numRows, numColumns, realData = None):\n",
        "        self.df = pd.DataFrame([])\n",
        "        self.numColumns = numColumns\n",
        "        self.numRows = numRows\n",
        "        self.realData = realData\n",
        "\n",
        "    def simulateDataBase(self):\n",
        "        self.df = pd.DataFrame(np.random.randint(2,size=(self.numRows,self.numColumns)))\n",
        "        return\n",
        "    \n",
        "    def transformRealData(self):\n",
        "        self.df = pd.DataFrame(TransformDataToDatabase(self.realData))"
      ],
      "execution_count": null,
      "outputs": []
    },
    {
      "cell_type": "code",
      "metadata": {
        "id": "sXI79QQpeQlh"
      },
      "source": [
        "db = DataBase(100000, 20)\n",
        "db.simulateDataBase()"
      ],
      "execution_count": null,
      "outputs": []
    },
    {
      "cell_type": "code",
      "metadata": {
        "id": "oty44kQoeQli"
      },
      "source": [
        "class Queries():\n",
        "    def __init__(self,numQueries, querySize):\n",
        "        self.queries = [ [0] * querySize for n in range(numQueries)]\n",
        "        self.numQueries = numQueries\n",
        "        self.querySize = querySize\n",
        "        self.choices = [0, 1, np.nan]\n",
        "        \n",
        "    def simulateQueries(self):\n",
        "#         self.queries = [ [ self.choices[n] for n in list( np.random.randint(3, size = self.querySize ))]\\\n",
        "#                         for n in range(self.numQueries)]\n",
        "        self.queries = [ [ self.choices[n] for n in list( np.random.choice(3, size = self.querySize,p=[0.1, 0.1, 0.8] ))]\\\n",
        "                        for n in range(self.numQueries)]\n"
      ],
      "execution_count": null,
      "outputs": []
    },
    {
      "cell_type": "code",
      "metadata": {
        "id": "C5EsA0PveQli"
      },
      "source": [
        "qList = Queries(100000,db.numColumns)\n",
        "qList.simulateQueries()"
      ],
      "execution_count": null,
      "outputs": []
    },
    {
      "cell_type": "code",
      "metadata": {
        "id": "0xbpGSt0eQli"
      },
      "source": [
        "def QueryPopSize(query, db):\n",
        "    criteria = [True] * db.df.shape[0]\n",
        "    for i in range(len(query)):\n",
        "        if query[i] in [0,1]:\n",
        "            criteria &= (db.df[i] == query[i])\n",
        "        # else no action, which means select both 0 and 1\n",
        "    return len( db.df[criteria] )"
      ],
      "execution_count": null,
      "outputs": []
    },
    {
      "cell_type": "code",
      "metadata": {
        "id": "2ek3B5EQeQli",
        "outputId": "9035cbdf-bf49-44b1-fa03-7f289a60dfa0"
      },
      "source": [
        "for i in range(10, 15):\n",
        "    query = qList.queries[i]\n",
        "    print( i, QueryPopSize(query, db) )"
      ],
      "execution_count": null,
      "outputs": [
        {
          "output_type": "stream",
          "text": [
            "(10, 3211)\n",
            "(11, 3127)\n",
            "(12, 24775)\n",
            "(13, 100000)\n",
            "(14, 12670)\n"
          ],
          "name": "stdout"
        }
      ]
    },
    {
      "cell_type": "code",
      "metadata": {
        "id": "dAvNfsuVeQlj"
      },
      "source": [
        "def queryToClusterRep(query):\n",
        "    res = [0] * len(query)\n",
        "    for i in range(len(query)):\n",
        "        if query[i] in [0,1]:\n",
        "            res[i] = 1\n",
        "    return res"
      ],
      "execution_count": null,
      "outputs": []
    },
    {
      "cell_type": "code",
      "metadata": {
        "id": "_CmFjN0YeQlj"
      },
      "source": [
        "qListRep = [ queryToClusterRep(query) for query in qList.queries]"
      ],
      "execution_count": null,
      "outputs": []
    },
    {
      "cell_type": "markdown",
      "metadata": {
        "id": "nZO-0gOJeQlj"
      },
      "source": [
        "# test data"
      ]
    },
    {
      "cell_type": "code",
      "metadata": {
        "id": "3K6GZjG8eQlk",
        "outputId": "c096a85c-491a-4bbf-db8b-d444d81db11d"
      },
      "source": [
        "np.sum( np.isnan(qList.queries[1] )  )"
      ],
      "execution_count": null,
      "outputs": [
        {
          "output_type": "execute_result",
          "data": {
            "text/plain": [
              "11"
            ]
          },
          "metadata": {
            "tags": []
          },
          "execution_count": 86
        }
      ]
    },
    {
      "cell_type": "code",
      "metadata": {
        "id": "ZqFvpwz7eQlk",
        "outputId": "9dafcede-f80c-4a51-e444-e4d0b2afa183"
      },
      "source": [
        "np.random.choice(3, size = (10, 10), p=[0.2, 0.2, 0.6])"
      ],
      "execution_count": null,
      "outputs": [
        {
          "output_type": "execute_result",
          "data": {
            "text/plain": [
              "array([[2, 2, 1, 0, 0, 0, 2, 0, 1, 1],\n",
              "       [0, 2, 0, 0, 2, 2, 2, 2, 2, 2],\n",
              "       [2, 2, 1, 2, 2, 2, 2, 2, 2, 2],\n",
              "       [1, 2, 2, 1, 2, 2, 2, 0, 2, 2],\n",
              "       [2, 0, 0, 2, 2, 2, 2, 2, 2, 0],\n",
              "       [2, 2, 2, 1, 2, 2, 0, 1, 2, 1],\n",
              "       [1, 2, 2, 2, 2, 0, 1, 2, 2, 2],\n",
              "       [0, 2, 2, 2, 2, 0, 1, 2, 2, 2],\n",
              "       [1, 2, 1, 2, 0, 1, 2, 2, 0, 2],\n",
              "       [0, 2, 1, 0, 2, 2, 1, 1, 0, 0]])"
            ]
          },
          "metadata": {
            "tags": []
          },
          "execution_count": 87
        }
      ]
    },
    {
      "cell_type": "code",
      "metadata": {
        "id": "KEG6JOBqeQlk"
      },
      "source": [],
      "execution_count": null,
      "outputs": []
    },
    {
      "cell_type": "markdown",
      "metadata": {
        "id": "imB1q7WzeQlk"
      },
      "source": [
        "## use kmeans to cluster"
      ]
    },
    {
      "cell_type": "code",
      "metadata": {
        "id": "zVimszUZeQlk"
      },
      "source": [
        "from sklearn.cluster import KMeans"
      ],
      "execution_count": null,
      "outputs": []
    },
    {
      "cell_type": "code",
      "metadata": {
        "id": "JVo00gv3eQll",
        "outputId": "82e94e48-6457-450c-f59f-f2b98c4b8fd1"
      },
      "source": [
        "res = []\n",
        "for n_clusters in (range(2,50)):\n",
        "    kmeans = KMeans(n_clusters = n_clusters, algorithm = 'full', max_iter = 30000, init = 'random').fit(np.array(qListRep))\n",
        "#     print( set(kmeans.labels_) )\n",
        "    # print(np.sum(kmeans.labels_))\n",
        "    # print(kmeans.labels_.shape)\n",
        "    # print(kmeans.labels_)\n",
        "    # print(kmeans.cluster_centers_)\n",
        "    res.append(kmeans.inertia_)\n",
        "    \n",
        "plt.plot(res)"
      ],
      "execution_count": null,
      "outputs": [
        {
          "output_type": "execute_result",
          "data": {
            "text/plain": [
              "[<matplotlib.lines.Line2D at 0x7ff8e982b3d0>]"
            ]
          },
          "metadata": {
            "tags": []
          },
          "execution_count": 11
        },
        {
          "output_type": "display_data",
          "data": {
            "image/png": "[encoded data removed]",
            "text/plain": [
              "<Figure size 432x288 with 1 Axes>"
            ]
          },
          "metadata": {
            "tags": []
          }
        }
      ]
    },
    {
      "cell_type": "code",
      "metadata": {
        "id": "ULI6iwnGeQll"
      },
      "source": [
        "kmeans = KMeans(n_clusters = 10, algorithm = 'full', max_iter = 30000, init = 'random').fit(np.array(qListRep))\n"
      ],
      "execution_count": null,
      "outputs": []
    },
    {
      "cell_type": "code",
      "metadata": {
        "id": "URA8zf6heQll"
      },
      "source": [
        "print( set(kmeans.labels_) )\n",
        "print(np.mean(kmeans.labels_))\n",
        "print(kmeans.labels_.shape)\n",
        "print(kmeans.labels_)\n",
        "# print(kmeans.cluster_centers_)"
      ],
      "execution_count": null,
      "outputs": []
    },
    {
      "cell_type": "code",
      "metadata": {
        "id": "lkzvTuK4eQll"
      },
      "source": [
        "np.sum( kmeans.labels_ == 0 )"
      ],
      "execution_count": null,
      "outputs": []
    },
    {
      "cell_type": "markdown",
      "metadata": {
        "id": "fst7AWTYeQll"
      },
      "source": [
        "## find distribution"
      ]
    },
    {
      "cell_type": "code",
      "metadata": {
        "id": "oL0okH1neQlm",
        "outputId": "ac17c884-9090-438d-ad57-19177514deb0"
      },
      "source": [
        "print( len(qListRep), len( qListRep[0] ) )"
      ],
      "execution_count": null,
      "outputs": [
        {
          "output_type": "stream",
          "text": [
            "(100000, 20)\n"
          ],
          "name": "stdout"
        }
      ]
    },
    {
      "cell_type": "code",
      "metadata": {
        "id": "S2YiNNZ8eQlm",
        "outputId": "1d982cfd-78b6-40a0-8ee8-247894199b06"
      },
      "source": [
        "plt.hist([ np.sum(l) for l in qListRep])"
      ],
      "execution_count": null,
      "outputs": [
        {
          "output_type": "execute_result",
          "data": {
            "text/plain": [
              "(array([7.0720e+03, 1.3803e+04, 4.2237e+04, 1.7425e+04, 1.0868e+04,\n",
              "        7.6320e+03, 7.1800e+02, 2.4000e+02, 4.0000e+00, 1.0000e+00]),\n",
              " array([ 0. ,  1.4,  2.8,  4.2,  5.6,  7. ,  8.4,  9.8, 11.2, 12.6, 14. ]),\n",
              " <a list of 10 Patch objects>)"
            ]
          },
          "metadata": {
            "tags": []
          },
          "execution_count": 89
        },
        {
          "output_type": "display_data",
          "data": {
            "image/png": "[encoded data removed]",
            "text/plain": [
              "<Figure size 432x288 with 1 Axes>"
            ]
          },
          "metadata": {
            "tags": []
          }
        }
      ]
    },
    {
      "cell_type": "code",
      "metadata": {
        "id": "tosKQj2eeQlm"
      },
      "source": [
        "distribution = (  [7.0720e+03, 1.3803e+04, 4.2237e+04, 1.7425e+04, 1.0868e+04,\n",
        "        7.6320e+03, 7.1800e+02, 2.4000e+02, 4.0000e+00, 1.0000e+00] )"
      ],
      "execution_count": null,
      "outputs": []
    },
    {
      "cell_type": "markdown",
      "metadata": {
        "id": "2G--2ddVeQlm"
      },
      "source": [
        "# simulation results"
      ]
    },
    {
      "cell_type": "markdown",
      "metadata": {
        "id": "wY5rlrXQeQlm"
      },
      "source": [
        "### Theorem 1"
      ]
    },
    {
      "cell_type": "code",
      "metadata": {
        "id": "wpFN_YZfeQlm"
      },
      "source": [
        "#### partial order"
      ],
      "execution_count": null,
      "outputs": []
    },
    {
      "cell_type": "code",
      "metadata": {
        "id": "grhEdjH0eQln"
      },
      "source": [],
      "execution_count": null,
      "outputs": []
    },
    {
      "cell_type": "markdown",
      "metadata": {
        "id": "8k_ksFWDeQln"
      },
      "source": [
        "### Theorem 2"
      ]
    },
    {
      "cell_type": "markdown",
      "metadata": {
        "id": "KFhBIvppeQln"
      },
      "source": [
        "measure errors given the same budget"
      ]
    },
    {
      "cell_type": "markdown",
      "metadata": {
        "id": "mpexjpsneQln"
      },
      "source": [
        "### simalation data"
      ]
    },
    {
      "cell_type": "code",
      "metadata": {
        "id": "8fqc32AoeQln"
      },
      "source": [
        "#### sigma counting threshold"
      ],
      "execution_count": null,
      "outputs": []
    },
    {
      "cell_type": "code",
      "metadata": {
        "id": "Ufok4tjZeQln",
        "outputId": "49ff97da-2515-4af2-feec-6ec8fbf2f80a"
      },
      "source": [
        "Omega = 2**20\n",
        "print( 'Sigma Counting wins when Q > ', Omega**1.5 )"
      ],
      "execution_count": null,
      "outputs": [
        {
          "output_type": "stream",
          "text": [
            "('Sigma Counting wins when Q > ', 1073741824.0)\n"
          ],
          "name": "stdout"
        }
      ]
    },
    {
      "cell_type": "code",
      "metadata": {
        "id": "9IUklBlzeQlo",
        "outputId": "201fe992-19fc-48f3-85e9-53da8feea3c0"
      },
      "source": [
        "# case 1 \n",
        "# when query\n",
        "query = qList[0]\n",
        "np.sum(queryToClusterRep(query))"
      ],
      "execution_count": null,
      "outputs": [
        {
          "output_type": "error",
          "ename": "AttributeError",
          "evalue": "Queries instance has no attribute '__getitem__'",
          "traceback": [
            "\u001b[0;31m---------------------------------------------------------------------------\u001b[0m",
            "\u001b[0;31mAttributeError\u001b[0m                            Traceback (most recent call last)",
            "\u001b[0;32m<ipython-input-324-b935f9229633>\u001b[0m in \u001b[0;36m<module>\u001b[0;34m()\u001b[0m\n\u001b[1;32m      1\u001b[0m \u001b[0;31m# case 1\u001b[0m\u001b[0;34m\u001b[0m\u001b[0;34m\u001b[0m\u001b[0m\n\u001b[1;32m      2\u001b[0m \u001b[0;31m# when query\u001b[0m\u001b[0;34m\u001b[0m\u001b[0;34m\u001b[0m\u001b[0m\n\u001b[0;32m----> 3\u001b[0;31m \u001b[0mquery\u001b[0m \u001b[0;34m=\u001b[0m \u001b[0mqList\u001b[0m\u001b[0;34m[\u001b[0m\u001b[0;36m0\u001b[0m\u001b[0;34m]\u001b[0m\u001b[0;34m\u001b[0m\u001b[0m\n\u001b[0m\u001b[1;32m      4\u001b[0m \u001b[0mnp\u001b[0m\u001b[0;34m.\u001b[0m\u001b[0msum\u001b[0m\u001b[0;34m(\u001b[0m\u001b[0mqueryToClusterRep\u001b[0m\u001b[0;34m(\u001b[0m\u001b[0mquery\u001b[0m\u001b[0;34m)\u001b[0m\u001b[0;34m)\u001b[0m\u001b[0;34m\u001b[0m\u001b[0m\n",
            "\u001b[0;31mAttributeError\u001b[0m: Queries instance has no attribute '__getitem__'"
          ]
        }
      ]
    },
    {
      "cell_type": "code",
      "metadata": {
        "id": "hp5X6jIWeQlo"
      },
      "source": [
        "#### sigma counting theoretical version"
      ],
      "execution_count": null,
      "outputs": []
    },
    {
      "cell_type": "code",
      "metadata": {
        "id": "-0UoEF0yeQlo",
        "outputId": "d0ecc530-b39e-4ed4-b21e-9be8e5a8b556"
      },
      "source": [
        "budget = 10000\n",
        "# number of queries = Q = 100000\n",
        "Q = 10000\n",
        "epsilon = budget/Q\n",
        "# noise in baseline:\n",
        "# error is theoretical value\n",
        "error_baseline =  (1/epsilon)**2\n",
        "print('error_baseline', error_baseline)\n",
        "\n",
        "# # sigma coutning method:\n",
        "# for all the queries:\n",
        "# Consider sigma counting for n = 3\n",
        "n = 3\n",
        "Omega = 2**db.numColumns\n",
        "epsilon_prime = budget/Omega\n",
        "def error(query):\n",
        "    if \n",
        "    return 2**( n - np.sum(queryToClusterRep(query)) ) * (1/epsilon_prime)**2\n",
        "\n",
        "error = 0\n",
        "for q in qList.queries:\n",
        "    if np.sum(queryToClusterRep(query)) <= 3:\n",
        "        error += error(q)\n",
        "print( error/len(qList))"
      ],
      "execution_count": null,
      "outputs": [
        {
          "output_type": "error",
          "ename": "SyntaxError",
          "evalue": "invalid syntax (<ipython-input-332-5689d307de3b>, line 17)",
          "traceback": [
            "\u001b[0;36m  File \u001b[0;32m\"<ipython-input-332-5689d307de3b>\"\u001b[0;36m, line \u001b[0;32m17\u001b[0m\n\u001b[0;31m    if\u001b[0m\n\u001b[0m       ^\u001b[0m\n\u001b[0;31mSyntaxError\u001b[0m\u001b[0;31m:\u001b[0m invalid syntax\n"
          ]
        }
      ]
    },
    {
      "cell_type": "code",
      "metadata": {
        "id": "EOqkzD1IeQlo"
      },
      "source": [
        "#### sigma counting application version"
      ],
      "execution_count": null,
      "outputs": []
    },
    {
      "cell_type": "code",
      "metadata": {
        "id": "TEFvdgjweQlo"
      },
      "source": [],
      "execution_count": null,
      "outputs": []
    },
    {
      "cell_type": "markdown",
      "metadata": {
        "id": "_PVeYCIaeQlo"
      },
      "source": [
        "### theorem 3"
      ]
    },
    {
      "cell_type": "code",
      "metadata": {
        "id": "oclznhmUeQlp",
        "outputId": "9269ada2-7f61-4b34-95f3-f8f7dc8318ed"
      },
      "source": [
        "n = 3\n",
        "# n can be 1 and 2, too\n",
        "# pick those queries which has size <= n \n",
        "# the number of such queries is\n",
        "print( 'number of queries', np.sum(distribution[:n]))\n",
        "# Omega_k < 2**n\n",
        "# \\sum Omega_k * \\sqrt( max(Omega_k) ) equals to following\n",
        "print( '> this threshold, sigma counting wins', round(2**n * binom(20,n) * math.sqrt(2**n))  )\n",
        "# as we see in this example, we have enough data"
      ],
      "execution_count": null,
      "outputs": [
        {
          "output_type": "stream",
          "text": [
            "('number of queries', 63112.0)\n",
            "('> this threshold, sigma counting wins', 25795.0)\n"
          ],
          "name": "stdout"
        }
      ]
    },
    {
      "cell_type": "code",
      "metadata": {
        "id": "pVd49pFreQlp"
      },
      "source": [
        "#### idea extension: as long as we can apply this optimization to pre-selected (simple) queries, \n",
        "#### sigma counting can alway wins"
      ],
      "execution_count": null,
      "outputs": []
    },
    {
      "cell_type": "code",
      "metadata": {
        "id": "b3tknuIGeQlp",
        "outputId": "5cabf7c8-5efe-4e32-b8be-bef1d1ec07de"
      },
      "source": [
        "# think about this further\n",
        "## when n = 3\n",
        "n = 3\n",
        "len(qListRep)\n",
        "qListRep_underN = [ l for l in qListRep if np.sum(l) <= n ]\n",
        "sample = [1]* 3 + [0] * 17\n",
        "print ( 'Onaveerage, there are this number in each bucket', len( qListRep_underN )/binom(20,n))\n",
        "len( [ l for l in qListRep_underN if l == sample] )"
      ],
      "execution_count": null,
      "outputs": [
        {
          "output_type": "stream",
          "text": [
            "('Onaveerage, there are this number in each bucket', 36)\n"
          ],
          "name": "stdout"
        },
        {
          "output_type": "execute_result",
          "data": {
            "text/plain": [
              "9"
            ]
          },
          "metadata": {
            "tags": []
          },
          "execution_count": 126
        }
      ]
    },
    {
      "cell_type": "code",
      "metadata": {
        "id": "jTuDen0weQlq",
        "outputId": "a98dc7f6-7ac0-43f9-a9db-bf83c17fa1e8"
      },
      "source": [
        "num_queries, sigma_threshold = [], []\n",
        "for n in range(1, 5):\n",
        "    num_queries.append( np.sum(distribution[:n]) )\n",
        "    sigma_threshold.append( round(2**n * binom(20,n) * math.sqrt(2**n)) )\n",
        "    \n",
        "plt.plot(num_queries, label = 'num queries')\n",
        "plt.plot(sigma_threshold, label = 'sigma threshold')\n",
        "plt.title('Comparison: number of queres vs sigma thrshold')"
      ],
      "execution_count": null,
      "outputs": [
        {
          "output_type": "execute_result",
          "data": {
            "text/plain": [
              "Text(0.5,1,'Comparison: number of queres vs sigma thrshold')"
            ]
          },
          "metadata": {
            "tags": []
          },
          "execution_count": 131
        },
        {
          "output_type": "display_data",
          "data": {
            "image/png": "[encoded data removed]",
            "text/plain": [
              "<Figure size 432x288 with 1 Axes>"
            ]
          },
          "metadata": {
            "tags": []
          }
        }
      ]
    },
    {
      "cell_type": "markdown",
      "metadata": {
        "id": "Fgm19J7meQlq"
      },
      "source": [
        "### Theorem 4"
      ]
    },
    {
      "cell_type": "code",
      "metadata": {
        "id": "5VYtjMO2eQlq"
      },
      "source": [
        "#### conclusion is similar to above \n",
        "#### notice Q * (1-p) is just the selected number of queries"
      ],
      "execution_count": null,
      "outputs": []
    },
    {
      "cell_type": "code",
      "metadata": {
        "id": "7HZzmC_NeQlq"
      },
      "source": [],
      "execution_count": null,
      "outputs": []
    },
    {
      "cell_type": "markdown",
      "metadata": {
        "id": "_jw8_EqAeQlr"
      },
      "source": [
        "# real data"
      ]
    },
    {
      "cell_type": "code",
      "metadata": {
        "id": "WobgAZhKeQlr",
        "colab": {
          "base_uri": "https://localhost:8080/",
          "height": 379
        },
        "outputId": "d9a495d1-c677-44e0-c6af-d0b315a1b62f"
      },
      "source": [
        "RealData = pd.read_csv('ColabNotebooks/adult.csv')"
      ],
      "execution_count": null,
      "outputs": [
        {
          "output_type": "error",
          "ename": "IOError",
          "evalue": "ignored",
          "traceback": [
            "\u001b[0;31m\u001b[0m",
            "\u001b[0;31mIOError\u001b[0mTraceback (most recent call last)",
            "\u001b[0;32m<ipython-input-6-b5e4334a7690>\u001b[0m in \u001b[0;36m<module>\u001b[0;34m()\u001b[0m\n\u001b[0;32m----> 1\u001b[0;31m \u001b[0mRealData\u001b[0m \u001b[0;34m=\u001b[0m \u001b[0mpd\u001b[0m\u001b[0;34m.\u001b[0m\u001b[0mread_csv\u001b[0m\u001b[0;34m(\u001b[0m\u001b[0;34m'ColabNotebooks/adult.csv'\u001b[0m\u001b[0;34m)\u001b[0m\u001b[0;34m\u001b[0m\u001b[0m\n\u001b[0m",
            "\u001b[0;32m/usr/local/lib/python2.7/dist-packages/pandas/io/parsers.pyc\u001b[0m in \u001b[0;36mparser_f\u001b[0;34m(filepath_or_buffer, sep, delimiter, header, names, index_col, usecols, squeeze, prefix, mangle_dupe_cols, dtype, engine, converters, true_values, false_values, skipinitialspace, skiprows, skipfooter, nrows, na_values, keep_default_na, na_filter, verbose, skip_blank_lines, parse_dates, infer_datetime_format, keep_date_col, date_parser, dayfirst, iterator, chunksize, compression, thousands, decimal, lineterminator, quotechar, quoting, doublequote, escapechar, comment, encoding, dialect, tupleize_cols, error_bad_lines, warn_bad_lines, delim_whitespace, low_memory, memory_map, float_precision)\u001b[0m\n\u001b[1;32m    700\u001b[0m                     skip_blank_lines=skip_blank_lines)\n\u001b[1;32m    701\u001b[0m \u001b[0;34m\u001b[0m\u001b[0m\n\u001b[0;32m--> 702\u001b[0;31m         \u001b[0;32mreturn\u001b[0m \u001b[0m_read\u001b[0m\u001b[0;34m(\u001b[0m\u001b[0mfilepath_or_buffer\u001b[0m\u001b[0;34m,\u001b[0m \u001b[0mkwds\u001b[0m\u001b[0;34m)\u001b[0m\u001b[0;34m\u001b[0m\u001b[0m\n\u001b[0m\u001b[1;32m    703\u001b[0m \u001b[0;34m\u001b[0m\u001b[0m\n\u001b[1;32m    704\u001b[0m     \u001b[0mparser_f\u001b[0m\u001b[0;34m.\u001b[0m\u001b[0m__name__\u001b[0m \u001b[0;34m=\u001b[0m \u001b[0mname\u001b[0m\u001b[0;34m\u001b[0m\u001b[0m\n",
            "\u001b[0;32m/usr/local/lib/python2.7/dist-packages/pandas/io/parsers.pyc\u001b[0m in \u001b[0;36m_read\u001b[0;34m(filepath_or_buffer, kwds)\u001b[0m\n\u001b[1;32m    427\u001b[0m \u001b[0;34m\u001b[0m\u001b[0m\n\u001b[1;32m    428\u001b[0m     \u001b[0;31m# Create the parser.\u001b[0m\u001b[0;34m\u001b[0m\u001b[0;34m\u001b[0m\u001b[0m\n\u001b[0;32m--> 429\u001b[0;31m     \u001b[0mparser\u001b[0m \u001b[0;34m=\u001b[0m \u001b[0mTextFileReader\u001b[0m\u001b[0;34m(\u001b[0m\u001b[0mfilepath_or_buffer\u001b[0m\u001b[0;34m,\u001b[0m \u001b[0;34m**\u001b[0m\u001b[0mkwds\u001b[0m\u001b[0;34m)\u001b[0m\u001b[0;34m\u001b[0m\u001b[0m\n\u001b[0m\u001b[1;32m    430\u001b[0m \u001b[0;34m\u001b[0m\u001b[0m\n\u001b[1;32m    431\u001b[0m     \u001b[0;32mif\u001b[0m \u001b[0mchunksize\u001b[0m \u001b[0;32mor\u001b[0m \u001b[0miterator\u001b[0m\u001b[0;34m:\u001b[0m\u001b[0;34m\u001b[0m\u001b[0m\n",
            "\u001b[0;32m/usr/local/lib/python2.7/dist-packages/pandas/io/parsers.pyc\u001b[0m in \u001b[0;36m__init__\u001b[0;34m(self, f, engine, **kwds)\u001b[0m\n\u001b[1;32m    893\u001b[0m             \u001b[0mself\u001b[0m\u001b[0;34m.\u001b[0m\u001b[0moptions\u001b[0m\u001b[0;34m[\u001b[0m\u001b[0;34m'has_index_names'\u001b[0m\u001b[0;34m]\u001b[0m \u001b[0;34m=\u001b[0m \u001b[0mkwds\u001b[0m\u001b[0;34m[\u001b[0m\u001b[0;34m'has_index_names'\u001b[0m\u001b[0;34m]\u001b[0m\u001b[0;34m\u001b[0m\u001b[0m\n\u001b[1;32m    894\u001b[0m \u001b[0;34m\u001b[0m\u001b[0m\n\u001b[0;32m--> 895\u001b[0;31m         \u001b[0mself\u001b[0m\u001b[0;34m.\u001b[0m\u001b[0m_make_engine\u001b[0m\u001b[0;34m(\u001b[0m\u001b[0mself\u001b[0m\u001b[0;34m.\u001b[0m\u001b[0mengine\u001b[0m\u001b[0;34m)\u001b[0m\u001b[0;34m\u001b[0m\u001b[0m\n\u001b[0m\u001b[1;32m    896\u001b[0m \u001b[0;34m\u001b[0m\u001b[0m\n\u001b[1;32m    897\u001b[0m     \u001b[0;32mdef\u001b[0m \u001b[0mclose\u001b[0m\u001b[0;34m(\u001b[0m\u001b[0mself\u001b[0m\u001b[0;34m)\u001b[0m\u001b[0;34m:\u001b[0m\u001b[0;34m\u001b[0m\u001b[0m\n",
            "\u001b[0;32m/usr/local/lib/python2.7/dist-packages/pandas/io/parsers.pyc\u001b[0m in \u001b[0;36m_make_engine\u001b[0;34m(self, engine)\u001b[0m\n\u001b[1;32m   1120\u001b[0m     \u001b[0;32mdef\u001b[0m \u001b[0m_make_engine\u001b[0m\u001b[0;34m(\u001b[0m\u001b[0mself\u001b[0m\u001b[0;34m,\u001b[0m \u001b[0mengine\u001b[0m\u001b[0;34m=\u001b[0m\u001b[0;34m'c'\u001b[0m\u001b[0;34m)\u001b[0m\u001b[0;34m:\u001b[0m\u001b[0;34m\u001b[0m\u001b[0m\n\u001b[1;32m   1121\u001b[0m         \u001b[0;32mif\u001b[0m \u001b[0mengine\u001b[0m \u001b[0;34m==\u001b[0m \u001b[0;34m'c'\u001b[0m\u001b[0;34m:\u001b[0m\u001b[0;34m\u001b[0m\u001b[0m\n\u001b[0;32m-> 1122\u001b[0;31m             \u001b[0mself\u001b[0m\u001b[0;34m.\u001b[0m\u001b[0m_engine\u001b[0m \u001b[0;34m=\u001b[0m \u001b[0mCParserWrapper\u001b[0m\u001b[0;34m(\u001b[0m\u001b[0mself\u001b[0m\u001b[0;34m.\u001b[0m\u001b[0mf\u001b[0m\u001b[0;34m,\u001b[0m \u001b[0;34m**\u001b[0m\u001b[0mself\u001b[0m\u001b[0;34m.\u001b[0m\u001b[0moptions\u001b[0m\u001b[0;34m)\u001b[0m\u001b[0;34m\u001b[0m\u001b[0m\n\u001b[0m\u001b[1;32m   1123\u001b[0m         \u001b[0;32melse\u001b[0m\u001b[0;34m:\u001b[0m\u001b[0;34m\u001b[0m\u001b[0m\n\u001b[1;32m   1124\u001b[0m             \u001b[0;32mif\u001b[0m \u001b[0mengine\u001b[0m \u001b[0;34m==\u001b[0m \u001b[0;34m'python'\u001b[0m\u001b[0;34m:\u001b[0m\u001b[0;34m\u001b[0m\u001b[0m\n",
            "\u001b[0;32m/usr/local/lib/python2.7/dist-packages/pandas/io/parsers.pyc\u001b[0m in \u001b[0;36m__init__\u001b[0;34m(self, src, **kwds)\u001b[0m\n\u001b[1;32m   1851\u001b[0m         \u001b[0mkwds\u001b[0m\u001b[0;34m[\u001b[0m\u001b[0;34m'usecols'\u001b[0m\u001b[0;34m]\u001b[0m \u001b[0;34m=\u001b[0m \u001b[0mself\u001b[0m\u001b[0;34m.\u001b[0m\u001b[0musecols\u001b[0m\u001b[0;34m\u001b[0m\u001b[0m\n\u001b[1;32m   1852\u001b[0m \u001b[0;34m\u001b[0m\u001b[0m\n\u001b[0;32m-> 1853\u001b[0;31m         \u001b[0mself\u001b[0m\u001b[0;34m.\u001b[0m\u001b[0m_reader\u001b[0m \u001b[0;34m=\u001b[0m \u001b[0mparsers\u001b[0m\u001b[0;34m.\u001b[0m\u001b[0mTextReader\u001b[0m\u001b[0;34m(\u001b[0m\u001b[0msrc\u001b[0m\u001b[0;34m,\u001b[0m \u001b[0;34m**\u001b[0m\u001b[0mkwds\u001b[0m\u001b[0;34m)\u001b[0m\u001b[0;34m\u001b[0m\u001b[0m\n\u001b[0m\u001b[1;32m   1854\u001b[0m         \u001b[0mself\u001b[0m\u001b[0;34m.\u001b[0m\u001b[0munnamed_cols\u001b[0m \u001b[0;34m=\u001b[0m \u001b[0mself\u001b[0m\u001b[0;34m.\u001b[0m\u001b[0m_reader\u001b[0m\u001b[0;34m.\u001b[0m\u001b[0munnamed_cols\u001b[0m\u001b[0;34m\u001b[0m\u001b[0m\n\u001b[1;32m   1855\u001b[0m \u001b[0;34m\u001b[0m\u001b[0m\n",
            "\u001b[0;32mpandas/_libs/parsers.pyx\u001b[0m in \u001b[0;36mpandas._libs.parsers.TextReader.__cinit__\u001b[0;34m()\u001b[0m\n",
            "\u001b[0;32mpandas/_libs/parsers.pyx\u001b[0m in \u001b[0;36mpandas._libs.parsers.TextReader._setup_parser_source\u001b[0;34m()\u001b[0m\n",
            "\u001b[0;31mIOError\u001b[0m: [Errno 2] File ColabNotebooks/adult.csv does not exist: 'ColabNotebooks/adult.csv'"
          ]
        }
      ]
    },
    {
      "cell_type": "code",
      "metadata": {
        "id": "LUMnHTeGeThk"
      },
      "source": [],
      "execution_count": null,
      "outputs": []
    },
    {
      "cell_type": "code",
      "metadata": {
        "id": "vM7ypOpzeQlr",
        "outputId": "bd7c8398-a498-4ebe-a9f9-084e8b5e2e67"
      },
      "source": [
        "s = 'fnlwgt'\n",
        "print(s)\n",
        "sorted( list( set( [ int(n/100000) for n in RealData[s].unique() ] ) ) )"
      ],
      "execution_count": null,
      "outputs": [
        {
          "output_type": "stream",
          "text": [
            "fnlwgt\n"
          ],
          "name": "stdout"
        },
        {
          "output_type": "execute_result",
          "data": {
            "text/plain": [
              "[0, 1, 2, 3, 4, 5, 6, 7, 8, 9, 10, 11, 12, 13, 14]"
            ]
          },
          "metadata": {
            "tags": []
          },
          "execution_count": 221
        }
      ]
    },
    {
      "cell_type": "code",
      "metadata": {
        "id": "VFMG0DfSeQlr",
        "outputId": "1725ce60-c762-41c6-d464-2546f02f39bd"
      },
      "source": [
        "[ n for n in RealData[s].unique() if n != '?' ]"
      ],
      "execution_count": null,
      "outputs": [
        {
          "output_type": "execute_result",
          "data": {
            "text/plain": [
              "['Private',\n",
              " 'State-gov',\n",
              " 'Federal-gov',\n",
              " 'Self-emp-not-inc',\n",
              " 'Self-emp-inc',\n",
              " 'Local-gov',\n",
              " 'Without-pay',\n",
              " 'Never-worked']"
            ]
          },
          "metadata": {
            "tags": []
          },
          "execution_count": 189
        }
      ]
    },
    {
      "cell_type": "code",
      "metadata": {
        "id": "KuudeWGseQls"
      },
      "source": [
        "def transformToIndex(s):\n",
        "    if s == 'age':\n",
        "        return sorted( list( set( [ int(n/10) for n in RealData[s].unique() ] ) ) ), 10\n",
        "    elif s == 'fnlwgt':\n",
        "        return sorted( list( set( [ int(n/100000) for n in RealData[s].unique() ] ) ) ), 100000\n",
        "    elif s == 'capital.gain':\n",
        "        return sorted( list( set( [ int(n/10000) for n in RealData[s].unique() ] ) ) ), 10000\n",
        "    elif s == 'capital.loss':\n",
        "        return sorted( list( set( [ int(n/1000) for n in RealData[s].unique() ] ) ) ), 1000\n",
        "    elif s == 'hours.per.week':\n",
        "        return sorted( list( set( [ int(n/10) for n in RealData[s].unique() ] ) ) ), 10\n",
        "    else: \n",
        "        return sorted( list( RealData[s].unique() )), 0"
      ],
      "execution_count": null,
      "outputs": []
    },
    {
      "cell_type": "code",
      "metadata": {
        "id": "kRci-JfbeQls",
        "outputId": "9e2d06b7-15f8-40a1-f7c1-9720c16a6159"
      },
      "source": [
        "2**(int( np.log( len( IndexList ))/np.log(2))) - 1"
      ],
      "execution_count": null,
      "outputs": [
        {
          "output_type": "execute_result",
          "data": {
            "text/plain": [
              "8"
            ]
          },
          "metadata": {
            "tags": []
          },
          "execution_count": 294
        }
      ]
    },
    {
      "cell_type": "code",
      "metadata": {
        "id": "kC4LwetdeQls"
      },
      "source": [
        "def TransformEntryToVector(entry):\n",
        "    res = ''\n",
        "    columnList = list( RealData.columns)\n",
        "    columnList.remove('education')\n",
        "    for column in columnList:\n",
        "#         print(column)\n",
        "        IndexList, notional = transformToIndex(column)\n",
        "        max_index = 2**(int( np.log( len( IndexList ))/np.log(2))) - 1\n",
        "        if notional > 0 :\n",
        "#             print(IndexList)\n",
        "#             print(notional)\n",
        "#             print()\n",
        "#             print(IndexList.index( RealData.iloc[0][column]/notional))\n",
        "            index = min(max_index, IndexList.index( entry[column]/notional) )\n",
        "        else:\n",
        "            index = min( max_index, IndexList.index( entry[column] ) )\n",
        "        res += ('{0:0='+str(max_index)+'b}').format(index)\n",
        "    return res"
      ],
      "execution_count": null,
      "outputs": []
    },
    {
      "cell_type": "code",
      "metadata": {
        "id": "pZZUFDvGeQls"
      },
      "source": [
        "for i in range(10, 200):\n",
        "    res = TransformEntryToVector( RealData.iloc[0])\n",
        "    if len(res) != 98:\n",
        "        print(i, len(res))"
      ],
      "execution_count": null,
      "outputs": []
    },
    {
      "cell_type": "code",
      "metadata": {
        "id": "vr1b0o04eQlt"
      },
      "source": [
        "def TransformDataToDatabase(RealData):\n",
        "    res = []\n",
        "    for i in range(len(RealData)):\n",
        "        entry = TransformEntryToVector(RealData.iloc[i])\n",
        "        entry = [int(s) for s in entry]\n",
        "        res.append( entry )\n",
        "    return pd.DataFrame(res)"
      ],
      "execution_count": null,
      "outputs": []
    },
    {
      "cell_type": "code",
      "metadata": {
        "id": "FJH45EY4eQlt",
        "outputId": "7b0bb645-cd74-482a-d9bc-5c31e0df64ea"
      },
      "source": [
        "begin = time.time()\n",
        "tmp = TransformDataToDatabase(RealData)\n",
        "print(round(time.time() - begin))"
      ],
      "execution_count": null,
      "outputs": [
        {
          "output_type": "stream",
          "text": [
            "715.0\n"
          ],
          "name": "stdout"
        }
      ]
    },
    {
      "cell_type": "code",
      "metadata": {
        "id": "rU1kQsC9eQlt"
      },
      "source": [],
      "execution_count": null,
      "outputs": []
    },
    {
      "cell_type": "code",
      "metadata": {
        "id": "DEtinC94eQlt"
      },
      "source": [],
      "execution_count": null,
      "outputs": []
    }
  ]
}